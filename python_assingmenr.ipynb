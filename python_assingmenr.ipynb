{
 "cells": [
  {
   "cell_type": "code",
   "execution_count": 3,
   "metadata": {},
   "outputs": [
    {
     "name": "stdout",
     "output_type": "stream",
     "text": [
      "20 10\n"
     ]
    }
   ],
   "source": [
    "#question 1 \n",
    "def swap (a,b):\n",
    "    return b,a \n",
    "x = 10\n",
    "y = 20\n",
    "x,y = swap (x,y);\n",
    "print(x,y)"
   ]
  },
  {
   "cell_type": "code",
   "execution_count": 4,
   "metadata": {},
   "outputs": [
    {
     "name": "stdout",
     "output_type": "stream",
     "text": [
      "200\n"
     ]
    }
   ],
   "source": [
    "#question 2 \n",
    "def area(legnth ,width ):\n",
    "    return legnth*width;\n",
    "a = area(10,20)\n",
    "print(a);"
   ]
  },
  {
   "cell_type": "code",
   "execution_count": 5,
   "metadata": {},
   "outputs": [
    {
     "name": "stdout",
     "output_type": "stream",
     "text": [
      "93.33333333333334\n"
     ]
    }
   ],
   "source": [
    "#quest 3 \n",
    "def f_to_C(f):\n",
    "    c = 5/9*(f-32)\n",
    "    return c \n",
    "\n",
    "p = f_to_C(200)\n",
    "print(p)\n",
    "    "
   ]
  },
  {
   "cell_type": "code",
   "execution_count": 6,
   "metadata": {},
   "outputs": [
    {
     "name": "stdout",
     "output_type": "stream",
     "text": [
      "417.5466666666666\n"
     ]
    }
   ],
   "source": [
    "#question 4\n",
    "def spare_vol(r):\n",
    "    v = 4/3*3.1316*r*r\n",
    "    return v ;\n",
    "\n",
    "v = spare_vol(10)\n",
    "print (v);"
   ]
  },
  {
   "cell_type": "code",
   "execution_count": 7,
   "metadata": {},
   "outputs": [
    {
     "name": "stdout",
     "output_type": "stream",
     "text": [
      "20.0\n"
     ]
    }
   ],
   "source": [
    "#question 5\n",
    "def avg(a,b,c):\n",
    "    x=(a+b+c)/3 ;\n",
    "    return x;\n",
    "\n",
    "print(avg(10,20,30))"
   ]
  },
  {
   "cell_type": "code",
   "execution_count": 9,
   "metadata": {},
   "outputs": [
    {
     "name": "stdout",
     "output_type": "stream",
     "text": [
      "odd\n"
     ]
    }
   ],
   "source": [
    "#question 6\n",
    "def even_odd(a):\n",
    "    if (a%2==0):\n",
    "        return 1;\n",
    "    else :\n",
    "        return 0;\n",
    "\n",
    "x = even_odd(5);\n",
    "if(x==1):\n",
    "    print('even');\n",
    "else:\n",
    "    print('odd');"
   ]
  },
  {
   "cell_type": "code",
   "execution_count": 17,
   "metadata": {},
   "outputs": [
    {
     "name": "stdout",
     "output_type": "stream",
     "text": [
      "30\n"
     ]
    }
   ],
   "source": [
    "#question 7\n",
    "import math\n",
    "x = 10\n",
    "y = 20\n",
    "z = 30\n",
    "p = max(x,y,z)\n",
    "print(p)"
   ]
  },
  {
   "cell_type": "code",
   "execution_count": 23,
   "metadata": {},
   "outputs": [
    {
     "name": "stdout",
     "output_type": "stream",
     "text": [
      "The year 2024 is a leap year.\n"
     ]
    }
   ],
   "source": [
    "# question 8\n",
    "def leap_yr(year):\n",
    "    if year % 4 == 0:\n",
    "        if year % 100 == 0:\n",
    "            if year % 400 == 0:\n",
    "                return True\n",
    "            else:\n",
    "                return False\n",
    "        else:\n",
    "            return True\n",
    "    else:\n",
    "        return False\n",
    "\n",
    "year = 2024\n",
    "\n",
    "if leap_yr(year):\n",
    "    print(f\"The year {year} is a leap year.\")\n",
    "else:\n",
    "    print(f\"The year {year} is not a leap year.\")\n"
   ]
  },
  {
   "cell_type": "code",
   "execution_count": 26,
   "metadata": {},
   "outputs": [
    {
     "name": "stdout",
     "output_type": "stream",
     "text": [
      "The nunber is positive\n"
     ]
    }
   ],
   "source": [
    "#question 9\n",
    "x = 29\n",
    "if x>0 :\n",
    " print('The nunber is positive')\n",
    "elif x<0 :\n",
    "  print('The nunber is negative')\n",
    "else :\n",
    " print('number is zero')"
   ]
  },
  {
   "cell_type": "code",
   "execution_count": 28,
   "metadata": {},
   "outputs": [
    {
     "name": "stdout",
     "output_type": "stream",
     "text": [
      "A+\n"
     ]
    }
   ],
   "source": [
    "#question 10\n",
    "p = 80\n",
    "if p>=80 :\n",
    "    print(\"A+\")\n",
    "elif p>=75 & p<80 :\n",
    "    print(\"A\")\n",
    "elif p>=70 & p<75 :\n",
    "    print(\"A-\")\n",
    "elif p>=65 & p<70 :\n",
    "    print(\"B+\")\n",
    "elif p>=60 & p<65 :\n",
    "    print(\"B\")\n",
    "elif p>=55 & p<60 :\n",
    "    print(\"B-\")\n",
    "elif p>=50 & p<55 :\n",
    "    print(\"c+\")\n",
    "elif p>=45 & p<50:\n",
    "    print(\"c\")\n",
    "elif p>=40 & p<45 :\n",
    "    print(\"D\")\n"
   ]
  },
  {
   "cell_type": "code",
   "execution_count": 32,
   "metadata": {},
   "outputs": [
    {
     "name": "stdout",
     "output_type": "stream",
     "text": [
      "1\n",
      "2\n",
      "3\n",
      "4\n",
      "5\n",
      "6\n",
      "7\n",
      "8\n",
      "9\n",
      "10\n",
      "11\n",
      "12\n",
      "13\n",
      "14\n",
      "15\n",
      "16\n",
      "17\n",
      "18\n",
      "19\n",
      "20\n",
      "21\n",
      "22\n",
      "23\n",
      "24\n",
      "25\n",
      "26\n",
      "27\n",
      "28\n",
      "29\n",
      "30\n",
      "31\n",
      "32\n",
      "33\n",
      "34\n",
      "35\n",
      "36\n",
      "37\n",
      "38\n",
      "39\n",
      "40\n",
      "41\n",
      "42\n",
      "43\n",
      "44\n",
      "45\n",
      "46\n",
      "47\n",
      "48\n",
      "49\n",
      "50\n",
      "51\n",
      "52\n",
      "53\n",
      "54\n",
      "55\n",
      "56\n",
      "57\n",
      "58\n",
      "59\n",
      "60\n",
      "61\n",
      "62\n",
      "63\n",
      "64\n",
      "65\n",
      "66\n",
      "67\n",
      "68\n",
      "69\n",
      "70\n",
      "71\n",
      "72\n",
      "73\n",
      "74\n",
      "75\n",
      "76\n",
      "77\n",
      "78\n",
      "79\n",
      "80\n",
      "81\n",
      "82\n",
      "83\n",
      "84\n",
      "85\n",
      "86\n",
      "87\n",
      "88\n",
      "89\n",
      "90\n",
      "91\n",
      "92\n",
      "93\n",
      "94\n",
      "95\n",
      "96\n",
      "97\n",
      "98\n",
      "99\n",
      "100\n"
     ]
    }
   ],
   "source": [
    "# quest 11\n",
    "for x in range(1, 101):\n",
    "    print(x)\n"
   ]
  },
  {
   "cell_type": "code",
   "execution_count": 13,
   "metadata": {},
   "outputs": [
    {
     "name": "stdout",
     "output_type": "stream",
     "text": [
      "120\n"
     ]
    }
   ],
   "source": [
    "#question 12 \n",
    "def factorial(n) :\n",
    "  p=1 \n",
    "  for x in range(1,n+1)  :\n",
    "    p = p* x\n",
    "   \n",
    "  return p ;\n",
    "\n",
    "r = 5 \n",
    "print(factorial(r))"
   ]
  },
  {
   "cell_type": "code",
   "execution_count": 16,
   "metadata": {},
   "outputs": [
    {
     "name": "stdout",
     "output_type": "stream",
     "text": [
      "0 1 1 2 3 5 8 13 21 34 "
     ]
    }
   ],
   "source": [
    "#question 13\n",
    "def fibonacci(n):\n",
    "    sum=0\n",
    "    a,b=0,1\n",
    "    for i in range(1,n+1):\n",
    "        print(a,end=\" \")\n",
    "        a,b=b,a+b\n",
    "\n",
    "fibonacci(10)\n"
   ]
  },
  {
   "cell_type": "code",
   "execution_count": 19,
   "metadata": {},
   "outputs": [
    {
     "name": "stdout",
     "output_type": "stream",
     "text": [
      "Not prime\n"
     ]
    }
   ],
   "source": [
    "#question 14\n",
    "def primecheck(n):\n",
    "    if n<=1 :\n",
    "        return False\n",
    "    for i in range(2,int(n**0.5)+1):\n",
    "        if(n%i==0):\n",
    "            return False\n",
    "    return True\n",
    "\n",
    "num =12\n",
    "if(primecheck(num)):\n",
    "    print(\"prime\")\n",
    "else:\n",
    "    print('Not prime')\n",
    "        \n",
    "        "
   ]
  },
  {
   "cell_type": "code",
   "execution_count": 25,
   "metadata": {},
   "outputs": [
    {
     "name": "stdout",
     "output_type": "stream",
     "text": [
      "10 x 1 = 10\n",
      "10 x 2 = 20\n",
      "10 x 3 = 30\n",
      "10 x 4 = 40\n",
      "10 x 5 = 50\n",
      "10 x 6 = 60\n",
      "10 x 7 = 70\n",
      "10 x 8 = 80\n",
      "10 x 9 = 90\n",
      "10 x 10 = 100\n"
     ]
    }
   ],
   "source": [
    "#question 15\n",
    "def multiplication_of_num(n):\n",
    "    \n",
    "    for i in range(1,n+1):\n",
    "        mul=10\n",
    "        mul=mul*i\n",
    "        print(10,'x',i,'=',mul)\n",
    "\n",
    "multiplication_of_num(10)"
   ]
  },
  {
   "cell_type": "code",
   "execution_count": 34,
   "metadata": {},
   "outputs": [
    {
     "name": "stdout",
     "output_type": "stream",
     "text": [
      "6\n"
     ]
    }
   ],
   "source": [
    "#question 16\n",
    "def sumOfevenNum(n):\n",
    "    sum=0\n",
    "    for i in range(1,n+1):\n",
    "        if(i%2==0):\n",
    "          sum=sum+i\n",
    "    return sum        \n",
    "print(sumOfevenNum(5))"
   ]
  },
  {
   "cell_type": "code",
   "execution_count": 35,
   "metadata": {},
   "outputs": [
    {
     "name": "stdout",
     "output_type": "stream",
     "text": [
      "Original number: 12345\n",
      "Reversed number: 54321\n"
     ]
    }
   ],
   "source": [
    "#q17\n",
    "def reverse_number(n):\n",
    "    reversed_num = 0\n",
    "    while n > 0:\n",
    "        digit = n % 10\n",
    "        reversed_num = reversed_num * 10 + digit\n",
    "        n = n // 10\n",
    "    return reversed_num\n",
    "\n",
    "\n",
    "num = 12345\n",
    "print(\"Original number:\", num)\n",
    "print(\"Reversed number:\", reverse_number(num))\n"
   ]
  },
  {
   "cell_type": "code",
   "execution_count": 36,
   "metadata": {},
   "outputs": [
    {
     "name": "stdout",
     "output_type": "stream",
     "text": [
      "olleh\n"
     ]
    }
   ],
   "source": [
    "#q18\n",
    "s=\"hello\"\n",
    "s_reverse= s[::-1]\n",
    "print(s_reverse)"
   ]
  },
  {
   "cell_type": "code",
   "execution_count": null,
   "metadata": {},
   "outputs": [
    {
     "name": "stdout",
     "output_type": "stream",
     "text": [
      "I'm thinking of a number between 1 and 100. Can you guess it?\n"
     ]
    }
   ],
   "source": [
    "#q19\n",
    "import random\n",
    "\n",
    "def guess_game():\n",
    "    number_to_guess = random.randint(1, 100)  # Random number between 1 and 100\n",
    "    guess = None\n",
    "\n",
    "    print(\"I'm thinking of a number between 1 and 100. Can you guess it?\")\n",
    "\n",
    "    while guess != number_to_guess:\n",
    "        try:\n",
    "            guess = int(input(\"Enter your guess: \"))\n",
    "\n",
    "            if guess < number_to_guess:\n",
    "                print(\"Too low. Try again!\")\n",
    "            elif guess > number_to_guess:\n",
    "                print(\"Too high. Try again!\")\n",
    "            else:\n",
    "                print(\"Congratulations! You guessed it!\")\n",
    "        except ValueError:\n",
    "            print(\"Please enter a valid number.\")\n",
    "\n",
    "guess_game()\n"
   ]
  }
 ],
 "metadata": {
  "kernelspec": {
   "display_name": "Python 3",
   "language": "python",
   "name": "python3"
  },
  "language_info": {
   "codemirror_mode": {
    "name": "ipython",
    "version": 3
   },
   "file_extension": ".py",
   "mimetype": "text/x-python",
   "name": "python",
   "nbconvert_exporter": "python",
   "pygments_lexer": "ipython3",
   "version": "3.12.2"
  }
 },
 "nbformat": 4,
 "nbformat_minor": 2
}
